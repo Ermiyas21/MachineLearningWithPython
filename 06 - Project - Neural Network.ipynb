{
 "cells": [
  {
   "cell_type": "markdown",
   "id": "8b1dcffe",
   "metadata": {},
   "source": [
    "# Project: Neural Network\n",
    "- Diabetes Classification\n",
    "- Given a dataset of various metrics can we predict if a patient has diabetes"
   ]
  },
  {
   "cell_type": "markdown",
   "id": "9631cb36",
   "metadata": {},
   "source": [
    "### Step 1: Import libraries"
   ]
  },
  {
   "cell_type": "code",
   "execution_count": 4,
   "id": "d4cd816d",
   "metadata": {},
   "outputs": [
    {
     "ename": "ModuleNotFoundError",
     "evalue": "No module named 'tensorflow'",
     "output_type": "error",
     "traceback": [
      "\u001b[0;31m---------------------------------------------------------------------------\u001b[0m",
      "\u001b[0;31mModuleNotFoundError\u001b[0m                       Traceback (most recent call last)",
      "\u001b[1;32m/home/adel/Documents/Project/perso/Rune/repos/MachineLearningWithPython/06 - Project - Neural Network.ipynb Cell 3'\u001b[0m in \u001b[0;36m<cell line: 3>\u001b[0;34m()\u001b[0m\n\u001b[1;32m      <a href='vscode-notebook-cell:/home/adel/Documents/Project/perso/Rune/repos/MachineLearningWithPython/06%20-%20Project%20-%20Neural%20Network.ipynb#ch0000002?line=0'>1</a>\u001b[0m \u001b[39mimport\u001b[39;00m \u001b[39mpandas\u001b[39;00m \u001b[39mas\u001b[39;00m \u001b[39mpd\u001b[39;00m\n\u001b[1;32m      <a href='vscode-notebook-cell:/home/adel/Documents/Project/perso/Rune/repos/MachineLearningWithPython/06%20-%20Project%20-%20Neural%20Network.ipynb#ch0000002?line=1'>2</a>\u001b[0m \u001b[39mimport\u001b[39;00m \u001b[39mnumpy\u001b[39;00m \u001b[39mas\u001b[39;00m \u001b[39mnp\u001b[39;00m\n\u001b[0;32m----> <a href='vscode-notebook-cell:/home/adel/Documents/Project/perso/Rune/repos/MachineLearningWithPython/06%20-%20Project%20-%20Neural%20Network.ipynb#ch0000002?line=2'>3</a>\u001b[0m \u001b[39mimport\u001b[39;00m \u001b[39mtensorflow\u001b[39;00m \u001b[39mas\u001b[39;00m \u001b[39mtf\u001b[39;00m\n\u001b[1;32m      <a href='vscode-notebook-cell:/home/adel/Documents/Project/perso/Rune/repos/MachineLearningWithPython/06%20-%20Project%20-%20Neural%20Network.ipynb#ch0000002?line=3'>4</a>\u001b[0m \u001b[39mfrom\u001b[39;00m \u001b[39mtensorflow\u001b[39;00m\u001b[39m.\u001b[39;00m\u001b[39mkeras\u001b[39;00m\u001b[39m.\u001b[39;00m\u001b[39mlayers\u001b[39;00m \u001b[39mimport\u001b[39;00m Input, Dense\n\u001b[1;32m      <a href='vscode-notebook-cell:/home/adel/Documents/Project/perso/Rune/repos/MachineLearningWithPython/06%20-%20Project%20-%20Neural%20Network.ipynb#ch0000002?line=4'>5</a>\u001b[0m \u001b[39mfrom\u001b[39;00m \u001b[39mtensorflow\u001b[39;00m\u001b[39m.\u001b[39;00m\u001b[39mkeras\u001b[39;00m\u001b[39m.\u001b[39;00m\u001b[39mmodels\u001b[39;00m \u001b[39mimport\u001b[39;00m Sequential\n",
      "\u001b[0;31mModuleNotFoundError\u001b[0m: No module named 'tensorflow'"
     ]
    }
   ],
   "source": [
    "import pandas as pd\n",
    "import numpy as np\n",
    "import tensorflow as tf\n",
    "from tensorflow.keras.layers import Input, Dense\n",
    "from tensorflow.keras.models import Sequential\n",
    "from sklearn.model_selection import train_test_split\n",
    "import matplotlib.pyplot as plt\n",
    "%matplotlib inline"
   ]
  },
  {
   "cell_type": "markdown",
   "id": "c42bbc01",
   "metadata": {},
   "source": [
    "### Step 2: Read the data\n",
    "- Use Pandas [read_csv](https://pandas.pydata.org/pandas-docs/stable/reference/api/pandas.read_csv.html) method to read **files/diabetes.csv**"
   ]
  },
  {
   "cell_type": "code",
   "execution_count": null,
   "id": "182c1888",
   "metadata": {},
   "outputs": [
    {
     "ename": "NameError",
     "evalue": "name 'pd' is not defined",
     "output_type": "error",
     "traceback": [
      "\u001b[0;31m---------------------------------------------------------------------------\u001b[0m",
      "\u001b[0;31mNameError\u001b[0m                                 Traceback (most recent call last)",
      "\u001b[1;32m/home/adel/Documents/Project/perso/Rune/repos/MachineLearningWithPython/06 - Project - Neural Network.ipynb Cell 5'\u001b[0m in \u001b[0;36m<cell line: 1>\u001b[0;34m()\u001b[0m\n\u001b[0;32m----> <a href='vscode-notebook-cell:/home/adel/Documents/Project/perso/Rune/repos/MachineLearningWithPython/06%20-%20Project%20-%20Neural%20Network.ipynb#ch0000004?line=0'>1</a>\u001b[0m data \u001b[39m=\u001b[39m pd\u001b[39m.\u001b[39mread_csv(\u001b[39m'\u001b[39m\u001b[39m./files/diabetes.csv\u001b[39m\u001b[39m'\u001b[39m)\n\u001b[1;32m      <a href='vscode-notebook-cell:/home/adel/Documents/Project/perso/Rune/repos/MachineLearningWithPython/06%20-%20Project%20-%20Neural%20Network.ipynb#ch0000004?line=1'>2</a>\u001b[0m data\u001b[39m.\u001b[39mhead()\n",
      "\u001b[0;31mNameError\u001b[0m: name 'pd' is not defined"
     ]
    }
   ],
   "source": [
    "data = pd.read_csv('./files/diabetes.csv')\n",
    "data.head()"
   ]
  },
  {
   "cell_type": "code",
   "execution_count": null,
   "id": "135e9e81",
   "metadata": {},
   "outputs": [],
   "source": []
  },
  {
   "cell_type": "markdown",
   "id": "afaa56d9",
   "metadata": {},
   "source": [
    "### Step 3: Check for data quality\n",
    "- Check **.isna().sum()**\n",
    "- Check **.dtypes**"
   ]
  },
  {
   "cell_type": "code",
   "execution_count": null,
   "id": "87c86774",
   "metadata": {},
   "outputs": [],
   "source": [
    "data.isna().sum()"
   ]
  },
  {
   "cell_type": "code",
   "execution_count": null,
   "id": "f1e40926",
   "metadata": {},
   "outputs": [],
   "source": [
    "data.dtypes"
   ]
  },
  {
   "cell_type": "markdown",
   "id": "c11677e0",
   "metadata": {},
   "source": [
    "### Step 4: Create dataset\n",
    "- Assign **X** to all but the last column\n",
    "- Assign **y** to the last column"
   ]
  },
  {
   "cell_type": "code",
   "execution_count": null,
   "id": "1a6e8fde",
   "metadata": {},
   "outputs": [],
   "source": [
    "X = data.iloc[:,:-1]\n",
    "y = data.iloc[:, -1]"
   ]
  },
  {
   "cell_type": "code",
   "execution_count": null,
   "id": "4357f3f3",
   "metadata": {},
   "outputs": [],
   "source": []
  },
  {
   "cell_type": "markdown",
   "id": "8017f19c",
   "metadata": {},
   "source": [
    "### Step 5: Create training and test set\n",
    "- Use **train_test_split** to create **X_train, X_test, y_train, y_test**."
   ]
  },
  {
   "cell_type": "code",
   "execution_count": null,
   "id": "afd3a92f",
   "metadata": {},
   "outputs": [],
   "source": [
    "X_train, X_test, y_train, y_test = train_test_split(X, y, random_state=42)"
   ]
  },
  {
   "cell_type": "code",
   "execution_count": null,
   "id": "39f69f38",
   "metadata": {},
   "outputs": [],
   "source": []
  },
  {
   "cell_type": "markdown",
   "id": "2ca69460",
   "metadata": {},
   "source": [
    "### Step 6: Calculate average accuracy for 10 runs\n",
    "- Create an empty list and assign it to **accuracies**\n",
    "- Loop over **i** over 10 integers.\n",
    "    - Set the random seed: **tf.random.set_seed(i)**\n",
    "    - Create a **Sequential** model\n",
    "    - Add a **Dense** layer with one exit node and **input_dim=8**, and **activation='sigmoid'**\n",
    "    - Compile the model with **loss='binary_crossentropy', optimizer='adam', metrics=['accuracy']**\n",
    "    - Fit the model with **epochs=1500, batch_size=100, verbose=0**\n",
    "    - Calculate the accuracy with **evaluate** on **X_test** and **y_test**\n",
    "        - The second return variable is the accuracy\n",
    "    - Append the accuracy (possibly multiplied by 100) to **accuraries**\n",
    "- Calculate the average value"
   ]
  },
  {
   "cell_type": "code",
   "execution_count": null,
   "id": "3bc1af12",
   "metadata": {},
   "outputs": [],
   "source": [
    "accuracies = []\n",
    "\n",
    "for i in range(10):\n",
    "  tf.random.set_seed(i)\n",
    "  model = Sequential()\n",
    "  model.add(Dense(1, input_dim=8, activation='sigmoid'))\n",
    "  model.compile(loss='binary_crossentropy', optimizer='adam', metrics=['accuracy'])\n",
    "  model.fit(X_train, y_train, epochs=1500, batch_size=100, verbose=0)\n",
    "  _, accuracy = model.evaluate(X_test, y_test)\n",
    "  accuracies.append(accuracy*100)"
   ]
  },
  {
   "cell_type": "code",
   "execution_count": null,
   "id": "491382d8",
   "metadata": {},
   "outputs": [],
   "source": [
    "sum(accuracies) / len(accuracies)"
   ]
  },
  {
   "cell_type": "markdown",
   "id": "b8ff3d82",
   "metadata": {},
   "source": [
    "### Step 7: Predict values\n",
    "- Predict all values with model on **X**\n",
    "- Make it into class ids with **np.where(y_pred < 0.5, 0, 1)** *(assuming **y_pred** is the predictions)*"
   ]
  },
  {
   "cell_type": "code",
   "execution_count": null,
   "id": "b12e5f14",
   "metadata": {},
   "outputs": [],
   "source": [
    "y_pred = model.predict(X)\n",
    "y_pred = np.where(y_pred < .5, 0, 1)"
   ]
  },
  {
   "cell_type": "code",
   "execution_count": null,
   "id": "cb22f0cf",
   "metadata": {},
   "outputs": [],
   "source": []
  },
  {
   "cell_type": "markdown",
   "id": "7e3999bd",
   "metadata": {},
   "source": [
    "### Step 8 (Optional): Visualize correct vs incorrect predictions\n",
    "- Calculate the ones that differ\n",
    "    - **np.abs(y.to_numpy() - y_pred.T)** *(assuming the variables names are correct)*\n",
    "    - Incorrect predictions will be 1, correct will be 0\n",
    "- Make a scatter plot with the two variables and the correctness calculations as colors"
   ]
  },
  {
   "cell_type": "code",
   "execution_count": null,
   "id": "3483c8ff",
   "metadata": {},
   "outputs": [],
   "source": [
    "differ = np.abs(y.to_numpy() - y_pred.T)\n",
    "\n",
    "fig, ax = plt.subplots()\n",
    "ax.scatter(x=X['Body mass index'], y=X['Age'], c = differ, alpha = .35)"
   ]
  },
  {
   "cell_type": "code",
   "execution_count": null,
   "id": "2f1292f8",
   "metadata": {},
   "outputs": [],
   "source": []
  }
 ],
 "metadata": {
  "kernelspec": {
   "display_name": "Python 3",
   "language": "python",
   "name": "python3"
  },
  "language_info": {
   "codemirror_mode": {
    "name": "ipython",
    "version": 3
   },
   "file_extension": ".py",
   "mimetype": "text/x-python",
   "name": "python",
   "nbconvert_exporter": "python",
   "pygments_lexer": "ipython3",
   "version": "3.9.12"
  }
 },
 "nbformat": 4,
 "nbformat_minor": 5
}
