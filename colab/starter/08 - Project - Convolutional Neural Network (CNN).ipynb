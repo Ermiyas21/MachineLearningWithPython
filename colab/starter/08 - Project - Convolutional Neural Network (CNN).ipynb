{
 "cells": [
  {
   "cell_type": "markdown",
   "id": "79dd0c29",
   "metadata": {},
   "source": [
    "<a \n",
    " href=\"https://colab.research.google.com/github/LearnPythonWithRune/MachineLearningWithPython/blob/main/colab/starter/08 - Project - Convolutional Neural Network (CNN).ipynb\"\n",
    " target=\"_parent\">\n",
    "<img \n",
    " src=\"https://colab.research.google.com/assets/colab-badge.svg\"\n",
    "alt=\"Open In Colab\"/>\n",
    "</a>"
   ]
  },
  {
   "cell_type": "markdown",
   "id": "4e33b771",
   "metadata": {},
   "source": [
    "# Project: Create a Convolutional Neural Network\n",
    "- We will create a model on the [CIFAR-10 dataset](https://www.cs.toronto.edu/%7Ekriz/cifar.html)"
   ]
  },
  {
   "cell_type": "markdown",
   "id": "b7fedd3b",
   "metadata": {},
   "source": [
    "### Step 1: Import libraries"
   ]
  },
  {
   "cell_type": "code",
   "execution_count": null,
   "id": "18fc9151",
   "metadata": {},
   "outputs": [],
   "source": []
  },
  {
   "cell_type": "markdown",
   "id": "9c50bbdb",
   "metadata": {},
   "source": [
    "### Step 2: Download the CIFAR10 dataset\n",
    "- Excute the cell below"
   ]
  },
  {
   "cell_type": "code",
   "execution_count": null,
   "id": "bdbfc9e6",
   "metadata": {},
   "outputs": [],
   "source": []
  },
  {
   "cell_type": "markdown",
   "id": "30cf23b4",
   "metadata": {},
   "source": [
    "### Step 3: Normalize the pixels\n",
    "- Divide the **train_images** and **test_images** with 255 to normalize them between 0 and 1."
   ]
  },
  {
   "cell_type": "code",
   "execution_count": null,
   "id": "855f89bf",
   "metadata": {},
   "outputs": [],
   "source": []
  },
  {
   "cell_type": "code",
   "execution_count": null,
   "id": "9e747824",
   "metadata": {},
   "outputs": [],
   "source": []
  },
  {
   "cell_type": "markdown",
   "id": "1888712c",
   "metadata": {},
   "source": [
    "### Step 4: Get the class names of the labels\n",
    "- Make a class name conversion.\n",
    "    - HINT: make a list with the name **class_names = ['airplane', 'automobile', 'bird', 'cat', 'deer', 'dog', 'frog', 'horse', 'ship', 'truck']**\n",
    "- How to use the name conversion.\n",
    "    - **class_names[int(train_labels[index])]**\n",
    "- How to show an image\n",
    "    - **plt.imshow(train_images[index])**"
   ]
  },
  {
   "cell_type": "code",
   "execution_count": null,
   "id": "50c795f7",
   "metadata": {},
   "outputs": [],
   "source": []
  },
  {
   "cell_type": "code",
   "execution_count": null,
   "id": "4f91dddf",
   "metadata": {},
   "outputs": [],
   "source": []
  },
  {
   "cell_type": "markdown",
   "id": "1a1e2ad7",
   "metadata": {},
   "source": [
    "### Step 5: Create a model\n",
    "- Create a **Sequential** model\n",
    "    - **Conv2D** with 32 and (3, 3),  **activation='relu', input_shape=(32, 32, 3)**\n",
    "    - **MaxPooling2D** with (2, 2)\n",
    "    - **Conv2D** with 64 and (3, 3),  **activation='relu'**\n",
    "    - **MaxPooling2D** with (2, 2)\n",
    "    - **Conv2D** with 64 and (3, 3),  **activation='relu'**\n",
    "    - **Flatten**\n",
    "    - **Dense** with 64 nodes with **input_dim=4, activaition='relu'**\n",
    "    - **Dense** with 10 (the output node)**\n",
    "- Complie the model with **optimizer='adam', loss=tf.keras.losses.SparseCategoricalCrossentropy(from_logits=True), metrics=['accuracy']**"
   ]
  },
  {
   "cell_type": "code",
   "execution_count": null,
   "id": "59222454",
   "metadata": {},
   "outputs": [],
   "source": []
  },
  {
   "cell_type": "code",
   "execution_count": null,
   "id": "a54675ae",
   "metadata": {},
   "outputs": [],
   "source": []
  },
  {
   "cell_type": "markdown",
   "id": "c885d22d",
   "metadata": {},
   "source": [
    "### Step 6: Train the model\n",
    "- Fit the model with **train_images, train_labels, epochs=10** and **validation_data=(test_images, test_labels)**"
   ]
  },
  {
   "cell_type": "code",
   "execution_count": null,
   "id": "dcc3a02b",
   "metadata": {},
   "outputs": [],
   "source": []
  },
  {
   "cell_type": "code",
   "execution_count": null,
   "id": "f551df46",
   "metadata": {},
   "outputs": [],
   "source": []
  },
  {
   "cell_type": "markdown",
   "id": "0c23d005",
   "metadata": {},
   "source": [
    "### Stpe 7: Test the model\n",
    "- Make predictions\n",
    "    - assign the predictions of test_images to a variable\n",
    "- How to test visually\n",
    "    - Assign **index=0**\n",
    "    - Plot the image with **plt.imshow(test_images[index])**\n",
    "    - See the label from prediction by mapping it from **class_names**"
   ]
  },
  {
   "cell_type": "code",
   "execution_count": null,
   "id": "9551387a",
   "metadata": {},
   "outputs": [],
   "source": []
  },
  {
   "cell_type": "code",
   "execution_count": null,
   "id": "14ef721c",
   "metadata": {},
   "outputs": [],
   "source": []
  },
  {
   "cell_type": "code",
   "execution_count": null,
   "id": "ae113050",
   "metadata": {},
   "outputs": [],
   "source": []
  },
  {
   "cell_type": "markdown",
   "id": "52205de0",
   "metadata": {},
   "source": [
    "### Step 8 (Optional): Improve the model\n",
    "- Try to play around with the model to improve the score"
   ]
  },
  {
   "cell_type": "code",
   "execution_count": null,
   "id": "fb390681",
   "metadata": {},
   "outputs": [],
   "source": []
  },
  {
   "cell_type": "code",
   "execution_count": null,
   "id": "d8c9bb07",
   "metadata": {},
   "outputs": [],
   "source": []
  },
  {
   "cell_type": "code",
   "execution_count": null,
   "id": "5bc47ac0",
   "metadata": {},
   "outputs": [],
   "source": []
  },
  {
   "cell_type": "code",
   "execution_count": null,
   "id": "bfb6d6a8",
   "metadata": {},
   "outputs": [],
   "source": []
  },
  {
   "cell_type": "code",
   "execution_count": null,
   "id": "3166b770",
   "metadata": {},
   "outputs": [],
   "source": []
  }
 ],
 "metadata": {},
 "nbformat": 4,
 "nbformat_minor": 5
}
