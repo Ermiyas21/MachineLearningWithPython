{
 "cells": [
  {
   "cell_type": "markdown",
   "id": "b4c87654",
   "metadata": {},
   "source": [
    "<a \n",
    " href=\"https://colab.research.google.com/github/LearnPythonWithRune/MachineLearningWithPython/blob/main/colab/starter/10 - Lesson - Recurrent Neural Network.ipynb\"\n",
    " target=\"_parent\">\n",
    "<img \n",
    " src=\"https://colab.research.google.com/assets/colab-badge.svg\"\n",
    "alt=\"Open In Colab\"/>\n",
    "</a>"
   ]
  },
  {
   "cell_type": "markdown",
   "id": "4993ca55",
   "metadata": {},
   "source": [
    "# Recurrent Neural Network (RNN)\n",
    "### Goal of lesson\n",
    "- Understand Recurrent Neural Network (RNN)\n",
    "- Build a RNN on a timeseries\n",
    "- Hover over the theory of RNN (LSTM cells)\n",
    "- Use the MinMaxScaler from sklearn.\n",
    "- Create a RNN model with tensorflow\n",
    "- Applying the Dropout techniques.\n",
    "- Predict stock prices and make weather forecast using RNN.\n",
    "\n",
    "### Feed-Forward Neural Network\n",
    "- Neural network that has connection only in one direction\n",
    "\n",
    "### Recurrent Neural Network\n",
    "- Neural network that generates output that feeds back into its own inputs\n",
    "- Can do one-to-many and many-to-many relationship (not possible for feed-forward neural networks)\n",
    "- This can generate sentences (while feed-forward neural network can only generate \"words\" or fixed sets of outputs)\n",
    "- For time series\n",
    "\n",
    "![RNN](img/rnn.png)\n",
    "\n",
    "### Examples Recurrent Neural Network\n",
    "- Google translate\n",
    "- Voice recognition\n",
    "- Video copy right violation"
   ]
  },
  {
   "cell_type": "markdown",
   "id": "11047afa",
   "metadata": {},
   "source": [
    "### Theory\n",
    "- It is complex - and luckily - not needed to understand in depth\n",
    "- Quote of the author of Keras (Francios Chollet):\n",
    "    - \"*You don't need to understand everything about the specific architecutre of an LSTM cell [...] just that LSTM cell is meant to allow past information to be reinjected at a later time.*\""
   ]
  },
  {
   "cell_type": "markdown",
   "id": "61c11de8",
   "metadata": {},
   "source": [
    "> #### Programming Notes:\n",
    "> - Libraries used\n",
    ">     - [**pandas**](https://pandas.pydata.org) - a data analysis and manipulation tool\n",
    ">     - [**numpy**](http://numpy.org) - scientific computing with Python ([Lecture on NumPy](https://youtu.be/BpzpU8_j0-c))\n",
    ">     - [**matplotlib**](http://matplotlib.org) - visualization with Python ([Lecture on **visualization**](https://youtu.be/htIh8YHh4xs))\n",
    ">     - [**tensorflow**](https://www.tensorflow.org) - end-to-end open source machine learning platform\n",
    "> - Functionality and concepts used\n",
    ">     - [**CSV**](https://en.wikipedia.org/wiki/Comma-separated_values) file ([Lecture on CSV](https://youtu.be/LEyojSOg4EI))\n",
    ">     - [**read_csv()**](https://pandas.pydata.org/pandas-docs/stable/reference/api/pandas.read_csv.html) read a comma-separated values (csv) file into **pandas** DataFrame.\n",
    ">     - [**MinMaxScaler**](https://scikit-learn.org/stable/modules/generated/sklearn.preprocessing.MinMaxScaler.html) Transform features by scaling each feature to a given range\n",
    ">     - [**Sequential**](https://www.tensorflow.org/api_docs/python/tf/keras/Sequential) provides training and inference features for a model\n",
    ">     - [**Dense**](https://www.tensorflow.org/api_docs/python/tf/keras/layers/Dense) regular densely-connected Neural Network (NN) layer.\n",
    ">     - [**Dropout**](https://www.tensorflow.org/api_docs/python/tf/keras/layers/Dropout) applies Dropout to the input\n",
    ">     - [**LSTM**](https://www.tensorflow.org/api_docs/python/tf/keras/layers/LSTM) Long Short-Term Memory layer - Hochreiter 1997"
   ]
  },
  {
   "cell_type": "code",
   "execution_count": null,
   "id": "3634022c",
   "metadata": {},
   "outputs": [],
   "source": []
  },
  {
   "cell_type": "code",
   "execution_count": null,
   "id": "7708c2a5",
   "metadata": {},
   "outputs": [],
   "source": []
  },
  {
   "cell_type": "code",
   "execution_count": null,
   "id": "a8acba38",
   "metadata": {},
   "outputs": [],
   "source": []
  },
  {
   "cell_type": "code",
   "execution_count": null,
   "id": "902e69ee",
   "metadata": {},
   "outputs": [],
   "source": []
  },
  {
   "cell_type": "code",
   "execution_count": null,
   "id": "8101b717",
   "metadata": {},
   "outputs": [],
   "source": []
  },
  {
   "cell_type": "code",
   "execution_count": null,
   "id": "1bdb21a4",
   "metadata": {},
   "outputs": [],
   "source": []
  },
  {
   "cell_type": "code",
   "execution_count": null,
   "id": "85ccc0e9",
   "metadata": {},
   "outputs": [],
   "source": []
  },
  {
   "cell_type": "code",
   "execution_count": null,
   "id": "c4c70b7b",
   "metadata": {},
   "outputs": [],
   "source": []
  },
  {
   "cell_type": "code",
   "execution_count": null,
   "id": "075ee76e",
   "metadata": {},
   "outputs": [],
   "source": []
  },
  {
   "cell_type": "code",
   "execution_count": null,
   "id": "c54dbdb0",
   "metadata": {},
   "outputs": [],
   "source": []
  },
  {
   "cell_type": "code",
   "execution_count": null,
   "id": "f89b727b",
   "metadata": {},
   "outputs": [],
   "source": []
  },
  {
   "cell_type": "code",
   "execution_count": null,
   "id": "85afb974",
   "metadata": {},
   "outputs": [],
   "source": []
  },
  {
   "cell_type": "code",
   "execution_count": null,
   "id": "8000d26b",
   "metadata": {},
   "outputs": [],
   "source": []
  },
  {
   "cell_type": "code",
   "execution_count": null,
   "id": "0ecd9966",
   "metadata": {},
   "outputs": [],
   "source": []
  },
  {
   "cell_type": "code",
   "execution_count": null,
   "id": "63c1d9d0",
   "metadata": {},
   "outputs": [],
   "source": []
  },
  {
   "cell_type": "code",
   "execution_count": null,
   "id": "dede7633",
   "metadata": {},
   "outputs": [],
   "source": []
  },
  {
   "cell_type": "code",
   "execution_count": null,
   "id": "4232230d",
   "metadata": {},
   "outputs": [],
   "source": []
  },
  {
   "cell_type": "code",
   "execution_count": null,
   "id": "1a9c504e",
   "metadata": {},
   "outputs": [],
   "source": []
  },
  {
   "cell_type": "code",
   "execution_count": null,
   "id": "0e66808b",
   "metadata": {},
   "outputs": [],
   "source": []
  }
 ],
 "metadata": {},
 "nbformat": 4,
 "nbformat_minor": 5
}
