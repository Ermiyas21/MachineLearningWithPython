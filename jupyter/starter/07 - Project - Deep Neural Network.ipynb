{
 "cells": [
  {
   "cell_type": "markdown",
   "id": "5ea243b8",
   "metadata": {},
   "source": [
    "# Project: Deep Neural Network\n",
    "- Identify false banknotes"
   ]
  },
  {
   "cell_type": "markdown",
   "id": "fbc0d19b",
   "metadata": {},
   "source": [
    "### Step 1: Import libraries"
   ]
  },
  {
   "cell_type": "code",
   "execution_count": null,
   "id": "d2309742",
   "metadata": {},
   "outputs": [],
   "source": []
  },
  {
   "cell_type": "markdown",
   "id": "50b057d4",
   "metadata": {},
   "source": [
    "### Step 2: Read the data\n",
    "- Use Pandas [read_csv](https://pandas.pydata.org/pandas-docs/stable/reference/api/pandas.read_csv.html) method to read **files/banknotes.csv**"
   ]
  },
  {
   "cell_type": "code",
   "execution_count": null,
   "id": "32b140b8",
   "metadata": {},
   "outputs": [],
   "source": []
  },
  {
   "cell_type": "code",
   "execution_count": null,
   "id": "13075a79",
   "metadata": {},
   "outputs": [],
   "source": []
  },
  {
   "cell_type": "markdown",
   "id": "44ed20c2",
   "metadata": {},
   "source": [
    "### Step 3: Investitigate the data\n",
    "- Check how many classes (class)\n",
    "    - HINT: use [unique()](https://pandas.pydata.org/docs/reference/api/pandas.unique.html)\n",
    "- Check for missing data\n",
    "    - HINT: use [isna()](https://pandas.pydata.org/docs/reference/api/pandas.DataFrame.isna.html)[.sum()](https://pandas.pydata.org/docs/reference/api/pandas.DataFrame.sum.html)"
   ]
  },
  {
   "cell_type": "code",
   "execution_count": null,
   "id": "212f99d6",
   "metadata": {},
   "outputs": [],
   "source": []
  },
  {
   "cell_type": "code",
   "execution_count": null,
   "id": "853cec5b",
   "metadata": {},
   "outputs": [],
   "source": []
  },
  {
   "cell_type": "markdown",
   "id": "a9db20eb",
   "metadata": {},
   "source": [
    "### Step 4: Divite data into feature vectors and labels\n",
    "- Assign the feature vectors to $X$\n",
    "    - HINT: that is all but the last column of the data\n",
    "- Assign the labels to $y$\n",
    "    - HINT: that is the last column (**class**)"
   ]
  },
  {
   "cell_type": "code",
   "execution_count": null,
   "id": "700b254c",
   "metadata": {},
   "outputs": [],
   "source": []
  },
  {
   "cell_type": "code",
   "execution_count": null,
   "id": "4f16ff5c",
   "metadata": {},
   "outputs": [],
   "source": []
  },
  {
   "cell_type": "markdown",
   "id": "5c768c6c",
   "metadata": {},
   "source": [
    "### Step 5: Create training and test datasets\n",
    "- Split $X$ and $y$ into train and test sets using **train_test_split** with **test_size=.4**"
   ]
  },
  {
   "cell_type": "code",
   "execution_count": null,
   "id": "e6e3325f",
   "metadata": {},
   "outputs": [],
   "source": []
  },
  {
   "cell_type": "code",
   "execution_count": null,
   "id": "84047f6e",
   "metadata": {},
   "outputs": [],
   "source": []
  },
  {
   "cell_type": "markdown",
   "id": "aaf02924",
   "metadata": {},
   "source": [
    "### Step 6: Create and compile the model\n",
    "- Create a **Sequential** model\n",
    "    - **Dense** with 8 nodes with **input_dim=4, activaition='relu'**\n",
    "    - **Dense** with 1 (the output node) with **activaition='sigmoid'**\n",
    "- Complie the model with **optimizer='adam', loss='binary_crossentropy', metrics=['accuracy']**"
   ]
  },
  {
   "cell_type": "code",
   "execution_count": null,
   "id": "f864269b",
   "metadata": {},
   "outputs": [],
   "source": []
  },
  {
   "cell_type": "code",
   "execution_count": null,
   "id": "815232de",
   "metadata": {},
   "outputs": [],
   "source": []
  },
  {
   "cell_type": "markdown",
   "id": "d7d9ac1a",
   "metadata": {},
   "source": [
    "### Step 7: Fit and test the accuracy\n",
    "- Fit the model on training data with **epochs=20**\n",
    "- Evaluate the model with test data with **verbose=2**"
   ]
  },
  {
   "cell_type": "code",
   "execution_count": null,
   "id": "d4e8d185",
   "metadata": {},
   "outputs": [],
   "source": []
  },
  {
   "cell_type": "code",
   "execution_count": null,
   "id": "6f222185",
   "metadata": {},
   "outputs": [],
   "source": []
  },
  {
   "cell_type": "markdown",
   "id": "12ee1716",
   "metadata": {},
   "source": [
    "### Step 8 (Optional): Add another hidden layer\n",
    "- Add another hidden layer in the model\n",
    "- Test performance"
   ]
  },
  {
   "cell_type": "code",
   "execution_count": null,
   "id": "534ff917",
   "metadata": {},
   "outputs": [],
   "source": []
  },
  {
   "cell_type": "code",
   "execution_count": null,
   "id": "1772eca1",
   "metadata": {},
   "outputs": [],
   "source": []
  },
  {
   "cell_type": "code",
   "execution_count": null,
   "id": "17eaa753",
   "metadata": {},
   "outputs": [],
   "source": []
  }
 ],
 "metadata": {
  "kernelspec": {
   "display_name": "Python 3",
   "language": "python",
   "name": "python3"
  },
  "language_info": {
   "codemirror_mode": {
    "name": "ipython",
    "version": 3
   },
   "file_extension": ".py",
   "mimetype": "text/x-python",
   "name": "python",
   "nbconvert_exporter": "python",
   "pygments_lexer": "ipython3",
   "version": "3.9.12"
  }
 },
 "nbformat": 4,
 "nbformat_minor": 5
}
