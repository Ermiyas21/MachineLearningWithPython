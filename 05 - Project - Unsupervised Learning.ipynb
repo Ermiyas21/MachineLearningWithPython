{
 "cells": [
  {
   "cell_type": "markdown",
   "id": "fed335da",
   "metadata": {},
   "source": [
    "# Project: Choosing the \"right\" $k$\n",
    "There are two widely used methods to get a good value for $k$.\n",
    "- The elbow method\n",
    "- The silhouette coefficient"
   ]
  },
  {
   "cell_type": "markdown",
   "id": "772ba42a",
   "metadata": {},
   "source": [
    "## The elbow method\n",
    "- Make a chart over different $k$ values\n",
    "- If the line chart resembles an arm, then the “elbow” is a good indication of a best fit at that point"
   ]
  },
  {
   "cell_type": "markdown",
   "id": "453014ec",
   "metadata": {},
   "source": [
    "### Step 1: Import libraries"
   ]
  },
  {
   "cell_type": "code",
   "execution_count": 1,
   "id": "1363419a",
   "metadata": {},
   "outputs": [],
   "source": [
    "import numpy as np\n",
    "import pandas as pd\n",
    "from sklearn.cluster import KMeans\n",
    "import matplotlib.pyplot as plt\n",
    "%matplotlib inline"
   ]
  },
  {
   "cell_type": "markdown",
   "id": "2de85794",
   "metadata": {},
   "source": [
    "### Step 2: Generate data"
   ]
  },
  {
   "cell_type": "code",
   "execution_count": 2,
   "id": "ea01046a",
   "metadata": {},
   "outputs": [],
   "source": [
    "# Generate some numbers\n",
    "data = np.random.randn(400,2)\n",
    "data[:100] += 5, 5\n",
    "data[100:200] += 10, 10\n",
    "data[200:300] += 10, 5\n",
    "data[300:] += 5, 10"
   ]
  },
  {
   "cell_type": "markdown",
   "id": "57d0f851",
   "metadata": {},
   "source": [
    "### Step 3: Different $k$ values\n",
    "- Create an empty list and assign it to **sse** (sum of squared error)\n",
    "- Iterate over $k$ from 1 to 10 (both inclusive)\n",
    "- Create a model **KMeans(n_cluster=k)**\n",
    "- Fit the model with **data**\n",
    "- Append the **model.inertia_** to the list **sse**"
   ]
  },
  {
   "cell_type": "code",
   "execution_count": 4,
   "id": "b3b92033",
   "metadata": {},
   "outputs": [],
   "source": [
    "sse = []\n",
    "for k in range(1, 11):\n",
    "    model = KMeans(n_clusters=k)\n",
    "    model.fit(data)\n",
    "    sse.append(model.inertia_)"
   ]
  },
  {
   "cell_type": "code",
   "execution_count": null,
   "id": "a98b4b95",
   "metadata": {},
   "outputs": [],
   "source": []
  },
  {
   "cell_type": "markdown",
   "id": "e90161de",
   "metadata": {},
   "source": [
    "### Step 4: Create plot\n",
    "- Create a figure and axes (**fig, ax**) from Matplotlib.pyplot (**plt**)\n",
    "- Make a plot over **range(1, 11)** and **sse**"
   ]
  },
  {
   "cell_type": "code",
   "execution_count": 5,
   "id": "de98f850",
   "metadata": {},
   "outputs": [
    {
     "data": {
      "text/plain": [
       "[<matplotlib.lines.Line2D at 0x7f9188b3bdc0>]"
      ]
     },
     "execution_count": 5,
     "metadata": {},
     "output_type": "execute_result"
    },
    {
     "data": {
      "image/png": "[encoded data removed]",
      "text/plain": [
       "<Figure size 432x288 with 1 Axes>"
      ]
     },
     "metadata": {
      "needs_background": "light"
     },
     "output_type": "display_data"
    }
   ],
   "source": [
    "fig, ax = plt.subplots()\n",
    "ax.plot(range(1, 11), sse)"
   ]
  },
  {
   "cell_type": "code",
   "execution_count": null,
   "id": "d9caacbe",
   "metadata": {},
   "outputs": [],
   "source": []
  },
  {
   "cell_type": "markdown",
   "id": "681aa7b4",
   "metadata": {},
   "source": [
    "## The silhouette coefficient\n",
    "- a measure of cluster cohesion and separation. \n",
    "- It quantifies how well a data point fits into its assigned cluster based on two factors:\n",
    "\n",
    "\n",
    "- How close the data point is to other points in the cluster\n",
    "- How far away the data point is from points in other clusters"
   ]
  },
  {
   "cell_type": "markdown",
   "id": "d602734c",
   "metadata": {},
   "source": [
    "### Step 1: Import libraries"
   ]
  },
  {
   "cell_type": "code",
   "execution_count": 6,
   "id": "58ecd0dc",
   "metadata": {},
   "outputs": [],
   "source": [
    "from sklearn.metrics import silhouette_score"
   ]
  },
  {
   "cell_type": "markdown",
   "id": "1fc790bc",
   "metadata": {},
   "source": [
    "### Step 2: Calculate Silouette Coefficients\n",
    "- Create an empty list and assign it **silouette_coefficients**\n",
    "- Iterate $k$ over 2 to 10 (both inclusive)\n",
    "    - Create **KMeans** model with **n_clusters=k**\n",
    "    - Fit the model with **data**\n",
    "    - Calculate the silhouette score on **data** and **model.labels_** and append it to list **silouette_coefficients**"
   ]
  },
  {
   "cell_type": "code",
   "execution_count": 7,
   "id": "494b7de0",
   "metadata": {},
   "outputs": [],
   "source": [
    "silhouette_coefficients = []\n",
    "\n",
    "for k in range(2, 11):\n",
    "    model = KMeans(n_clusters=k)\n",
    "    model.fit(data)\n",
    "    score = silhouette_score(data, model.labels_)\n",
    "    silhouette_coefficients.append(score)"
   ]
  },
  {
   "cell_type": "code",
   "execution_count": null,
   "id": "a3a1138f",
   "metadata": {},
   "outputs": [],
   "source": []
  },
  {
   "cell_type": "markdown",
   "id": "c2398af7",
   "metadata": {},
   "source": [
    "### Step 3: Plot the result\n",
    "- Create a figure and axes (**fig, ax**) from Matplotlib.pyplot (**plt**)\n",
    "- Make a plot over **range(2, 11)** and **silhouette_coefficients**"
   ]
  },
  {
   "cell_type": "code",
   "execution_count": 8,
   "id": "10ec9ee6",
   "metadata": {},
   "outputs": [
    {
     "data": {
      "text/plain": [
       "[<matplotlib.lines.Line2D at 0x7f9188a415e0>]"
      ]
     },
     "execution_count": 8,
     "metadata": {},
     "output_type": "execute_result"
    },
    {
     "data": {
      "image/png": "[encoded data removed]",
      "text/plain": [
       "<Figure size 432x288 with 1 Axes>"
      ]
     },
     "metadata": {
      "needs_background": "light"
     },
     "output_type": "display_data"
    }
   ],
   "source": [
    "fig, ax = plt.subplots()\n",
    "ax.plot(range(2, 11), silhouette_coefficients)"
   ]
  },
  {
   "cell_type": "code",
   "execution_count": null,
   "id": "33b019d0",
   "metadata": {},
   "outputs": [],
   "source": []
  },
  {
   "cell_type": "code",
   "execution_count": null,
   "id": "fd084e90",
   "metadata": {},
   "outputs": [],
   "source": []
  }
 ],
 "metadata": {
  "kernelspec": {
   "display_name": "Python 3",
   "language": "python",
   "name": "python3"
  },
  "language_info": {
   "codemirror_mode": {
    "name": "ipython",
    "version": 3
   },
   "file_extension": ".py",
   "mimetype": "text/x-python",
   "name": "python",
   "nbconvert_exporter": "python",
   "pygments_lexer": "ipython3",
   "version": "3.9.12"
  }
 },
 "nbformat": 4,
 "nbformat_minor": 5
}
